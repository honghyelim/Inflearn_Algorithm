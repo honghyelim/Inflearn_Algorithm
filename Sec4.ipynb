{
 "cells": [
  {
   "cell_type": "markdown",
   "metadata": {},
   "source": [
    "## 1. 이분검색\n",
    "\n",
    "임의의 N개의 숫자가 입력으로 주어집니다. N개의 수를 오름차순으로 정렬한 다음 N개의 수\n",
    "중 한 개의 수인 M이 주어지면 이분검색으로 M이 정렬된 상태에서 몇 번째에 있는지 구하는\n",
    "프로그램을 작성하세요. 단 중복값은 존재하지 않습니다.\n",
    "\n",
    "\n",
    "첫 줄에 한 줄에 자연수 N(3<=N<=1,000,000)과 M이 주어집니다.\n",
    "두 번째 줄에 N개의 수가 공백을 사이에 두고 주어집니다.\n",
    "\n",
    "첫 줄에 정렬 후 M의 값의 위치 번호를 출력한다.\n"
   ]
  },
  {
   "cell_type": "code",
   "execution_count": 9,
   "metadata": {},
   "outputs": [
    {
     "name": "stdout",
     "output_type": "stream",
     "text": [
      "3\n"
     ]
    }
   ],
   "source": [
    "# n, m=map(int, input().split())\n",
    "# a=list(map(int, input().split()))\n",
    "\n",
    "n = 8\n",
    "m = 32\n",
    "a = [23,87,65,12,57,32,99,81]\n",
    "\n",
    "a.sort()\n",
    "\n",
    "for i in range(n):\n",
    "    if a[i] == m:\n",
    "        print(i+1)"
   ]
  },
  {
   "cell_type": "code",
   "execution_count": 17,
   "metadata": {
    "scrolled": false
   },
   "outputs": [
    {
     "name": "stdout",
     "output_type": "stream",
     "text": [
      "3\n"
     ]
    }
   ],
   "source": [
    "n = 8\n",
    "m = 32\n",
    "a = [23,87,65,12,57,32,99,81]\n",
    "a.sort()\n",
    "\n",
    "lt = 0\n",
    "rt = n-1\n",
    "\n",
    "\n",
    "while lt <= rt:\n",
    "    mid = (lt+rt)//2\n",
    "    if a[mid] == m:\n",
    "        print(mid+1)\n",
    "        break\n",
    "    elif a[mid] > m:\n",
    "        rt = mid-1\n",
    "    else:\n",
    "        lt = mid+1"
   ]
  },
  {
   "cell_type": "markdown",
   "metadata": {},
   "source": [
    "## 2. 랜선자르기(결정알고리즘)\n",
    "\n",
    "엘리트 학원은 자체적으로 K개의 랜선을 가지고 있다. 그러나 K개의 랜선은 길이가 제각각이\n",
    "다. 선생님은 랜선을 모두 N개의 같은 길이의 랜선으로 만들고 싶었기 때문에 K개의 랜선을\n",
    "잘라서 만들어야 한다. 예를 들어 300cm 짜리 랜선에서 140cm 짜리 랜선을 두 개 잘라내면\n",
    "20cm 은 버려야 한다. (이미 자른 랜선은 붙일 수 없다.)\n",
    "편의를 위해 랜선을 자를때 손실되는 길이는 없다고 가정하며, 기존의 K개의 랜선으로 N개의\n",
    "랜선을 만들 수 없는 경우는 없다고 가정하자. 그리고 자를 때는 항상 센티미터 단위로 정수\n",
    "길이만큼 자른다고 가정하자. N개보다 많이 만드는 것도 N개를 만드는 것에 포함된다. 이때\n",
    "만들 수 있는 최대 랜선의 길이를 구하는 프로그램을 작성하시오.\n",
    "\n",
    "\n",
    "첫째 줄에는 엘리트학원이 이미 가지고 있는 랜선의 개수 K, 그리고 필요한 랜선의 개수 N이\n",
    "입력된다. K는 1이상 10,000이하의 정수이고, N은 1이상 1,000,000이하의 정수이다. 그리고\n",
    "항상 K ≦ N 이다. 그 후 K줄에 걸쳐 이미 가지고 있는 각 랜선의 길이가 센티미터 단위의\n",
    "  이하의 자연수로 주어진다.\n",
    "\n",
    "첫째 줄에 N개를 만들 수 있는 랜선의 최대 길이를 센티미터 단위의 정수로 출력한다."
   ]
  },
  {
   "cell_type": "code",
   "execution_count": 22,
   "metadata": {},
   "outputs": [
    {
     "name": "stdout",
     "output_type": "stream",
     "text": [
      "802\n",
      "743\n",
      "457\n",
      "539\n",
      "200\n"
     ]
    }
   ],
   "source": [
    "k = 4\n",
    "n = 11\n",
    "line = []\n",
    "res = 0 #정답\n",
    "largest = 0\n",
    "\n",
    "def count(len): \n",
    "    cnt = 0\n",
    "    for x in line:\n",
    "        cnt += (x//len)\n",
    "    return cnt\n",
    "\n",
    "for i in range(k):\n",
    "    tmp = int(input())\n",
    "    line.append(tmp)\n",
    "    largest = max(largest, tmp)\n",
    "    \n",
    "lt = 1\n",
    "rt = largest\n",
    "while lt <= rt:\n",
    "    mid = (lt+rt)//2\n",
    "    if count(mid) >= n:\n",
    "        res = mid\n",
    "        lt = mid+1\n",
    "    else:\n",
    "        rt = mid-1\n",
    "        \n",
    "print(res)"
   ]
  },
  {
   "cell_type": "markdown",
   "metadata": {},
   "source": [
    "## 3. 뮤직비디오(결정알고리즘)\n",
    "\n",
    "지니레코드에서는 불세출의 가수 조영필의 라이브 동영상을 DVD로 만들어 판매하려 한다.\n",
    "DVD에는 총 N개의 곡이 들어가는데, DVD에 녹화할 때에는 라이브에서의 순서가 그대로 유지\n",
    "되어야 한다. 순서가 바뀌는 것을 우리의 가수 조영필씨가 매우 싫어한다. 즉, 1번 노래와 5번\n",
    "노래를 같은 DVD에 녹화하기 위해서는 1번과 5번 사이의 모든 노래도 같은 DVD에 녹화해야\n",
    "한다. 또한 한 노래를 쪼개서 두 개의 DVD에 녹화하면 안된다.\n",
    "지니레코드 입장에서는 이 DVD가 팔릴 것인지 확신할 수 없기 때문에 이 사업에 낭비되는\n",
    "DVD를 가급적 줄이려고 한다. 고민 끝에 지니레코드는 M개의 DVD에 모든 동영상을 녹화하기\n",
    "로 하였다. 이 때 DVD의 크기(녹화 가능한 길이)를 최소로 하려고 한다. 그리고 M개의 DVD는\n",
    "모두 같은 크기여야 제조원가가 적게 들기 때문에 꼭 같은 크기로 해야 한다.\n",
    "\n",
    "첫째 줄에 자연수 N(1≤N≤1,000), M(1≤M≤N)이 주어진다. 다음 줄에는 조영필이 라이브에서\n",
    "부른 순서대로 부른 곡의 길이가 분 단위로(자연수) 주어진다. 부른 곡의 길이는 10,000분을\n",
    "넘지 않는다고 가정하자.\n",
    "\n",
    "\n",
    "첫 번째 줄부터 DVD의 최소 용량 크기를 출력하세요."
   ]
  },
  {
   "cell_type": "code",
   "execution_count": 28,
   "metadata": {},
   "outputs": [
    {
     "name": "stdout",
     "output_type": "stream",
     "text": [
      "17\n"
     ]
    }
   ],
   "source": [
    "n = 9\n",
    "m = 3\n",
    "music = [1,2,3,4,5,6,7,8,9]\n",
    "\n",
    "def count(cap):\n",
    "    cnt=1\n",
    "    sum=0\n",
    "    for x in music:\n",
    "        if sum+x > cap: #용량 초과\n",
    "            cnt+=1\n",
    "            sum=x\n",
    "        else:\n",
    "            sum+= x\n",
    "    return cnt\n",
    "\n",
    "maxx = max(music)\n",
    "lt = 1\n",
    "rt = sum(music)\n",
    "res = 0 #정답\n",
    "while lt <= rt:\n",
    "    mid = (lt+rt)//2\n",
    "    if mid >= maxx and count(mid) <= m:\n",
    "        res = mid\n",
    "        rt = mid-1\n",
    "    else:\n",
    "        lt = mid+1\n",
    "\n",
    "print(res)"
   ]
  },
  {
   "cell_type": "markdown",
   "metadata": {},
   "source": [
    "## 4. 마구간 정하기(결정알고리즘)\n",
    "\n",
    "N개의 마구간이 수직선상에 있습니다. 각 마구간은 x1, x2, x3, ......, xN의 좌표를 가지며, 마\n",
    "구간간에 좌표가 중복되는 일은 없습니다.\n",
    "현수는 C마리의 말을 가지고 있는데, 이 말들은 서로 가까이 있는 것을 좋아하지 않습니다.\n",
    "각 마구간에는 한 마리의 말만 넣을 수 있고, 가장 가까운 두 말의 거리가 최대가 되게 말을\n",
    "마구간에 배치하고 싶습니다.\n",
    "C마리의 말을 N개의 마구간에 배치했을 때 가장 가까운 두 말의 거리가 최대가 되는 그 최대\n",
    "값을 출력하는 프로그램을 작성하세요.\n",
    "\n",
    "첫 줄에 자연수 N(3<=N<=200,000)과 C(2<=C<=N)이 공백을 사이에 두고 주어집니다.\n",
    "둘째 줄부터 N개의 줄에 걸쳐 마구간의 좌표 xi(0<=xi<=1,000,000,000)가 한 줄에 하나씩\n",
    "주어집니다.\n",
    "\n",
    "첫 줄에 가장 가까운 두 말의 최대 거리를 출력하세요."
   ]
  },
  {
   "cell_type": "code",
   "execution_count": 30,
   "metadata": {},
   "outputs": [
    {
     "name": "stdout",
     "output_type": "stream",
     "text": [
      "3\n"
     ]
    }
   ],
   "source": [
    "n = 5\n",
    "c = 3\n",
    "line = [1,2,8,4,9]\n",
    "line.sort()\n",
    "\n",
    "def count(len):\n",
    "    cnt = 1\n",
    "    ep = line[0]    #첫번째 말 위치\n",
    "    for i in range(1,n):\n",
    "        if line[i]-ep >= len:   #두번째 말 위치 - 첫번째 말 위치 >= mid\n",
    "            cnt += 1            #cnt 갱신\n",
    "            ep = line[i]        #end point 갱신\n",
    "    return cnt\n",
    "\n",
    "lt = 1\n",
    "rt = max(line)\n",
    "while lt <= rt:\n",
    "    mid = (lt+rt)//2\n",
    "    if count(mid) >= c:    #cnt >= 3\n",
    "        res = mid\n",
    "        lt = mid+1\n",
    "    else:\n",
    "        rt = mid-1         #cnt < 3 -> 범위를 좁힘\n",
    "        \n",
    "print(res)\n"
   ]
  },
  {
   "cell_type": "markdown",
   "metadata": {},
   "source": [
    "## 5. 회의실 배정(그리디)\n",
    "\n",
    "한 개의 회의실이 있는데 이를 사용하고자 하는 n개의 회의들에 대하여 회의실 사용표를 만들\n",
    "려고 한다. 각 회의에 대해 시작시간과 끝나는 시간이 주어져 있고, 각 회의가 겹치지 않게 하\n",
    "면서 회의실을 사용할 수 있는 최대수의 회의를 찾아라. 단, 회의는 한번 시작하면 중간에 중\n",
    "단될 수 없으며 한 회의가 끝나는 것과 동시에 다음 회의가 시작될 수 있다.\n",
    "\n",
    "첫째 줄에 회의의 수 n(1<=n<=100,000)이 주어진다. 둘째 줄부터 n+1 줄까지 각 회의의 정\n",
    "보가 주어지는데 이것은 공백을 사이에 두고 회의의 시작시간과 끝나는 시간이 주어진다.\n",
    "\n",
    "첫째 줄에 최대 사용할 수 있는 회의 수를 출력하여라."
   ]
  },
  {
   "cell_type": "code",
   "execution_count": 31,
   "metadata": {},
   "outputs": [
    {
     "name": "stdout",
     "output_type": "stream",
     "text": [
      "1 4\n",
      "2 3\n",
      "3 5\n",
      "4 6\n",
      "5 7\n",
      "3\n"
     ]
    }
   ],
   "source": [
    "n=5\n",
    "meeting=[]\n",
    "for i in range(n):\n",
    "    a, b=map(int, input().split())\n",
    "    meeting.append((a, b))\n",
    "\n",
    "meeting.sort(key=lambda x : (x[1], x[0])) #회의가 끝나는 시점을 기준으로 정렬\n",
    "et=0\n",
    "cnt=0\n",
    "for x, y in meeting:\n",
    "    if x >= et:  #x >= end time\n",
    "        et = y   #ex) et = 3\n",
    "        cnt += 1\n",
    "print(cnt)"
   ]
  }
 ],
 "metadata": {
  "kernelspec": {
   "display_name": "Python 3",
   "language": "python",
   "name": "python3"
  },
  "language_info": {
   "codemirror_mode": {
    "name": "ipython",
    "version": 3
   },
   "file_extension": ".py",
   "mimetype": "text/x-python",
   "name": "python",
   "nbconvert_exporter": "python",
   "pygments_lexer": "ipython3",
   "version": "3.7.6"
  }
 },
 "nbformat": 4,
 "nbformat_minor": 4
}
