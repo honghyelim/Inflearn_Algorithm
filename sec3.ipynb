{
 "cells": [
  {
   "cell_type": "markdown",
   "metadata": {},
   "source": [
    "### 1. 사과나무(다이아몬드)\n",
    "\n",
    "현수의 농장은 N*N 격자판으로 이루어져 있으며, 각 격자안에는 한 그루의 사과나무가 심어저있다. N의 크기는 항상 홀수이다.\n",
    "\n",
    "가을이 되어 사과를 수확해야 하는데 현수는 격자판안의 사과를 수확할 때 다이아몬드 모양의 격자판만 수확하고 나머지 격자안의 사과는 새들을 위해서 남겨놓는다.\n",
    "\n",
    "만약 N이 5이면 아래 그림과 같이 진한 부분의 사과를 수확한다.\n",
    "\n",
    "현수과 수확하는 사과의 총 개수를 출력하세요."
   ]
  },
  {
   "cell_type": "markdown",
   "metadata": {},
   "source": [
    "첫 줄에 자연수 N(홀수)이 주어진다.(3<=N<=20)  \n",
    "두 번째 줄부터 N줄에 걸쳐 각 줄에 N개의 자연수가 주어진다.  \n",
    "이 자연수는 각 격자안에 있는 사과나무에 열린 사과의 개수이다.  \n",
    "각 격자안의 사과의 개수는 100을 넘지 않는다.  "
   ]
  },
  {
   "cell_type": "code",
   "execution_count": 2,
   "metadata": {},
   "outputs": [
    {
     "name": "stdout",
     "output_type": "stream",
     "text": [
      "7\n",
      "74 10 31 26 59 16 89 \n",
      "78 44 49 1 64 33 15\n",
      "9 95 70 18 22 25 40 \n",
      "62 77 28 3 78 75 23 \n",
      "82 38 20 16 42 1 79 \n",
      "1 24 2 25 95 26 79 \n",
      "4 35 46 94 70 44 83 \n",
      "1049\n"
     ]
    }
   ],
   "source": [
    "import sys\n",
    "sys.stdin = open(\"in1.txt\", 'r')\n",
    "n=int(input())\n",
    "a=[list(map(int, input().split())) for _ in range(n)]\n",
    "res=0\n",
    "s=e=n//2\n",
    "for i in range(n):\n",
    "    for j in range(s, e+1):\n",
    "        res += a[i][j]\n",
    "    if i < n//2:\n",
    "        s-=1\n",
    "        e+=1\n",
    "    else:\n",
    "        s+=1\n",
    "        e-=1\n",
    "print(res)"
   ]
  },
  {
   "cell_type": "markdown",
   "metadata": {},
   "source": [
    "### 2. 곳감\n",
    "\n",
    "현수는 곳감을 만들기 위해 감을 깍아 마당에 말리고 있습니다. 현수의 마당은 N*N 격자판으\n",
    "로 이루어져 있으며, 현수는 각 격자단위로 말리는 감의 수를 정합니다.\n",
    "그런데 해의 위치에 따라 특정위치의 감은 잘 마르지 않습니다. 그래서 현수는 격자의 행을\n",
    "기준으로 왼쪽, 또는 오른쪽으로 회전시켜 위치를 변경해 모든 감이 잘 마르게 합니다.\n",
    "만약 회전명령 정보가 2 0 3이면 2번째 행을 왼쪽으로 3만큼 아래 그림처럼 회전시키는 명령\n",
    "입니다.\n",
    "\n",
    "\n",
    "첫 줄에 자연수 N(3<=N<=20) 이 주어며, N은 홀수입니다.  \n",
    "두 번째 줄부터 N줄에 걸쳐 각 줄에 N개의 자연수가 주어진다.  \n",
    "이 자연수는 각 격자안에 있는 감의 개수이며, 각 격자안의 감의 개수는 100을 넘지 않는다.  \n",
    "그 다음 줄에 회전명령의 개수인 M(1<=M<=10)이 주어지고, 그 다음 줄부터 M개의 회전명령  \n",
    "정보가 M줄에 걸쳐 주어집니다.  "
   ]
  },
  {
   "cell_type": "code",
   "execution_count": null,
   "metadata": {},
   "outputs": [],
   "source": [
    "import sys\n",
    "sys.stdin = open(\"input.txt\", 'r')\n",
    "n=int(input())\n",
    "a=[list(map(int, input().split())) for _ in range(n)]\n",
    "m=int(input())\n",
    "for i in range(m):\n",
    "    h, t, k=map(int, input().split())\n",
    "    if(t==0):\n",
    "        for _ in range(k):\n",
    "            a[h-1].append(a[h-1].pop(0))\n",
    "    else:\n",
    "        for _ in range(k):\n",
    "            a[h-1].insert(0, a[h-1].pop())\n",
    "\n",
    "res=0\n",
    "s=0\n",
    "e=n-1\n",
    "for i in range(n):\n",
    "    for j in range(s, e+1):\n",
    "        res+=a[i][j]\n",
    "    if i<n//2:\n",
    "        s+=1\n",
    "        e-=1\n",
    "    else:\n",
    "        s-=1\n",
    "        e+=1\n",
    "print(res)"
   ]
  },
  {
   "cell_type": "markdown",
   "metadata": {},
   "source": [
    "### 3. 봉우리\n",
    "\n",
    "지도 정보가 N*N 격자판에 주어집니다. 각 격자에는 그 지역의 높이가 쓰여있습니다. 각 격자\n",
    "판의 숫자 중 자신의 상하좌우 숫자보다 큰 숫자는 봉우리 지역입니다. 봉우리 지역이 몇 개\n",
    "있는 지 알아내는 프로그램을 작성하세요.\n",
    "격자의 가장자리는 0으로 초기화 되었다고 가정한다.\n",
    "만약 N=5 이고, 격자판의 숫자가 다음과 같다면 봉우리의 개수는 10개입니다.\n",
    "\n",
    "\n",
    "첫 줄에 자연수 N이 주어진다.(1<=N<=50)  \n",
    "두 번째 줄부터 N줄에 걸쳐 각 줄에 N개의 자연수가 주어진다. 각 자연수는 100을 넘지 않는다."
   ]
  },
  {
   "cell_type": "code",
   "execution_count": null,
   "metadata": {},
   "outputs": [],
   "source": [
    "import sys\n",
    "#sys.stdin = open(\"input.txt\", 'r')\n",
    "dx=[-1, 0, 1, 0]\n",
    "dy=[0, 1, 0, -1]\n",
    "n=int(input())\n",
    "a=[list(map(int, input().split())) for _ in range(n)]\n",
    "a.insert(0, [0]*n)\n",
    "a.append([0]*n)\n",
    "for x in a:\n",
    "    x.insert(0, 0)\n",
    "    x.append(0)\n",
    "\n",
    "cnt=0\n",
    "for i in range(1, n+1):\n",
    "    for j in range(1, n+1):\n",
    "        if all(a[i][j]>a[i+dx[k]][j+dy[k]] for k in range(4)):\n",
    "            cnt+=1\n",
    "print(cnt)"
   ]
  },
  {
   "cell_type": "markdown",
   "metadata": {},
   "source": [
    "### 4. 스도쿠 검사\n",
    "\n",
    "스도쿠는 매우 간단한 숫자 퍼즐이다. 9×9 크기의 보드가 있을 때, 각 행과 각 열, 그리고 9\n",
    "개의 3×3 크기의 보드에 1부터 9까지의 숫자가 중복 없이 나타나도록 보드를 채우면 된다.\n",
    "예를 들어 다음을 보자.\n",
    "위 그림은 스도쿠를 정확하게 푼 경우이다. 각 행에 1부터 9까지의 숫자가 중복 없이 나오\n",
    "고, 각 열에 1부터 9까지의 숫자가 중복 없이 나오고, 각 3×3짜리 사각형(9개이며, 위에서 색\n",
    "깔로 표시되었다)에 1부터 9까지의 숫자가 중복 없이 나오기 때문이다.\n",
    "완성된 9×9 크기의 수도쿠가 주어지면 정확하게 풀었으면 “YES\", 잘 못 풀었으면 ”NO\"를 출\n",
    "력하는 프로그램을 작성하세요.\n"
   ]
  },
  {
   "cell_type": "code",
   "execution_count": null,
   "metadata": {},
   "outputs": [],
   "source": [
    "import sys\n",
    "sys.stdin=open(\"input.txt\", \"r\")\n",
    "def check(a):\n",
    "    for i in range(9):\n",
    "        ch1=[0]*10\n",
    "        ch2=[0]*10\n",
    "        for j in range(9):\n",
    "            ch1[a[i][j]]=1\n",
    "            ch2[a[j][i]]=1\n",
    "        if sum(ch1)!=9 or sum(ch2)!=9:\n",
    "            return False\n",
    "    for i in range(3):\n",
    "        for j in range(3):\n",
    "            ch3=[0]*10\n",
    "            for k in range(3):\n",
    "                for s in range(3):\n",
    "                    ch3[a[i*3+k][j*3+s]]=1\n",
    "            if sum(ch3)!=9:\n",
    "                return False\n",
    "    return True\n",
    "\n",
    "a=[list(map(int, input().split())) for _ in range(9)]\n",
    "if check(a):\n",
    "    print(\"YES\")\n",
    "else:\n",
    "    print(\"NO\")"
   ]
  },
  {
   "cell_type": "markdown",
   "metadata": {},
   "source": [
    "### 5. 격자판 회문수\n",
    "\n",
    "\n",
    "1부터 9까지의 자연수로 채워진 7*7 격자판이 주어지면 격자판 위에서 가로방향 또는\n",
    "세로방향으로 길이 5자리 회문수가 몇 개 있는지 구하는 프로그램을 작성하세요.\n",
    "회문수란 121과 같이 앞에서부터 읽으나 뒤에서부터 읽으나 같은 수를 말합니다.\n",
    "빨간색처럼 구부러진 경우(87178)는 회문수로 간주하지 않습니다.\n",
    "\n"
   ]
  },
  {
   "cell_type": "code",
   "execution_count": null,
   "metadata": {},
   "outputs": [],
   "source": [
    "import sys\n",
    "sys.stdin=open(\"input.txt\", \"r\")\n",
    "board=[list(map(int, input().split())) for _ in range(7)]\n",
    "cnt=0\n",
    "for i in range(3):\n",
    "    for j in range(7):\n",
    "        tmp = board[j][i:i+5]\n",
    "        if tmp == tmp[::-1]:\n",
    "            cnt += 1\n",
    "        for k in range(2):\n",
    "            if board[i+k][j] != board[i+5-k-1][j]:\n",
    "                break;\n",
    "        else:\n",
    "            cnt+=1\n",
    "        \n",
    "print(cnt)"
   ]
  },
  {
   "cell_type": "markdown",
   "metadata": {},
   "source": [
    "<회문의 길이가 가변적일 때 코드>"
   ]
  },
  {
   "cell_type": "code",
   "execution_count": null,
   "metadata": {},
   "outputs": [],
   "source": [
    "import sys\n",
    "sys.stdin=open(\"input.txt\", \"r\")\n",
    "board=[list(map(int, input().split())) for _ in range(7)]\n",
    "cnt=0\n",
    "len=5\n",
    "for i in range(3):\n",
    "    for j in range(7):\n",
    "        tmp=board[j][i:i+len]\n",
    "        if tmp==tmp[::-1]:\n",
    "            cnt+=1\n",
    "        #tmp=board[i:i+5][j] 앞 행은 리스트가 아니라서 슬라이스가 안된다.\n",
    "        for k in range(len//2):\n",
    "            if board[i+k][j]!=board[len-k+i-1][j]:\n",
    "                break;\n",
    "        else:\n",
    "            cnt+=1\n",
    "        \n",
    "print(cnt)"
   ]
  }
 ],
 "metadata": {
  "kernelspec": {
   "display_name": "Python 3",
   "language": "python",
   "name": "python3"
  },
  "language_info": {
   "codemirror_mode": {
    "name": "ipython",
    "version": 3
   },
   "file_extension": ".py",
   "mimetype": "text/x-python",
   "name": "python",
   "nbconvert_exporter": "python",
   "pygments_lexer": "ipython3",
   "version": "3.7.6"
  }
 },
 "nbformat": 4,
 "nbformat_minor": 4
}
